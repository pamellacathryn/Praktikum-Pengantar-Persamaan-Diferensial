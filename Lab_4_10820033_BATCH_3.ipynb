{
  "nbformat": 4,
  "nbformat_minor": 0,
  "metadata": {
    "colab": {
      "name": "Lab_4_10820033_BATCH_3.ipynb",
      "provenance": []
    },
    "kernelspec": {
      "name": "python3",
      "display_name": "Python 3"
    },
    "language_info": {
      "name": "python"
    }
  },
  "cells": [
    {
      "cell_type": "markdown",
      "source": [
        "**PRAKTIKUM KE-4**"
      ],
      "metadata": {
        "id": "wZRRMjhqd1WX"
      }
    },
    {
      "cell_type": "markdown",
      "source": [
        " * Nama : Pamella Cathryn\n",
        " * NIM  : 10820033\n",
        " * Asisten : Rafi Naufal Aziz\n",
        "\n",
        " Dengan ini, saya mengerjakan pekerjaan praktikum hari ini dengan jujur tanpa menyalin pekerjaan teman dan berdiskusi. Jika saya terbukti melakukan kecurangan, saya bersedia menerima nilai 0 pada nilai total 8 praktikum.\n"
      ],
      "metadata": {
        "id": "VVb23kFWdG7r"
      }
    },
    {
      "cell_type": "markdown",
      "source": [
        "The code starts here"
      ],
      "metadata": {
        "id": "x3upUQ3EeL9r"
      }
    },
    {
      "cell_type": "code",
      "source": [
        "#import library\n",
        "import numpy as np\n",
        "import matplotlib.pyplot as plt\n",
        "from sympy import Function, dsolve, Derivative, solve, simplify, Eq, E, cos, sin, symbols\n",
        "from sympy import *\n",
        "from sympy.utilities.lambdify import lambdify\n",
        "from sympy.integrals.transforms import laplace_transform, inverse_laplace_transform\n",
        "\n",
        "#dari f ke F (laplace biasa)\n",
        "\n",
        "t = symbols('t',positive=True)\n",
        "s = symbols('s',real=True)\n",
        "f = Heaviside(t-2)\n",
        "\n",
        "print(laplace_transform(f,t,s))\n",
        "\n",
        "#dari F ke f (invers laplace)\n",
        "\n",
        "t = symbols('t',positive=True)\n",
        "s = symbols('s',real=True)\n",
        "F = exp(-2*s)/s\n",
        "\n",
        "print(inverse_laplace_transform(F,s,t))\n",
        "\n",
        "#penyelesaian PDB\n",
        "x,f,X = symbols('x f X', cls = Function)\n",
        "t = symbols('t',positive=True)\n",
        "s = symbols('s',real=True)\n",
        "\n",
        "f = DiracDelta(t-2)\n",
        "\n",
        "x0 = 4\n",
        "v0 = 7\n",
        "\n",
        "eom = Eq((s**2*X(s)-s*x0-v0)+10*(s*X(s)-x0)+21*X(s),\n",
        "         laplace_transform(f,t,s,noconds=True))\n",
        "Xofs = solve(eom,X(s))\n",
        "soln = inverse_laplace_transform(Xofs[0],s,t)\n",
        "soln_simp = expand(soln)\n",
        "print(\"x(t) =\", soln_simp)"
      ],
      "metadata": {
        "id": "R_j8hYqceYJ7",
        "colab": {
          "base_uri": "https://localhost:8080/"
        },
        "outputId": "b3b196c2-914f-40b8-8e25-6387dd796dba"
      },
      "execution_count": null,
      "outputs": [
        {
          "output_type": "stream",
          "name": "stdout",
          "text": [
            "(exp(-2*s)/s, -oo, s > 0)\n",
            "Heaviside(t - 2)\n",
            "x(t) = exp(6)*exp(-3*t)*Heaviside(t - 2)/4 + 35*exp(-3*t)/4 - exp(14)*exp(-7*t)*Heaviside(t - 2)/4 - 19*exp(-7*t)/4\n"
          ]
        }
      ]
    },
    {
      "cell_type": "code",
      "source": [
        "help(laplace_transform)"
      ],
      "metadata": {
        "colab": {
          "base_uri": "https://localhost:8080/"
        },
        "id": "GIGxeXgVrR46",
        "outputId": "21c3748d-02d4-4b62-9f45-57b9ec7fc73d"
      },
      "execution_count": null,
      "outputs": [
        {
          "output_type": "stream",
          "name": "stdout",
          "text": [
            "Help on function laplace_transform in module sympy.integrals.transforms:\n",
            "\n",
            "laplace_transform(f, t, s, **hints)\n",
            "    Compute the Laplace Transform `F(s)` of `f(t)`,\n",
            "    \n",
            "    .. math :: F(s) = \\int_0^\\infty e^{-st} f(t) \\mathrm{d}t.\n",
            "    \n",
            "    For all \"sensible\" functions, this converges absolutely in a\n",
            "    half plane  `a < \\operatorname{Re}(s)`.\n",
            "    \n",
            "    This function returns ``(F, a, cond)``\n",
            "    where ``F`` is the Laplace transform of ``f``, `\\operatorname{Re}(s) > a` is the half-plane\n",
            "    of convergence, and ``cond`` are auxiliary convergence conditions.\n",
            "    \n",
            "    If the integral cannot be computed in closed form, this function returns\n",
            "    an unevaluated :class:`LaplaceTransform` object.\n",
            "    \n",
            "    For a description of possible hints, refer to the docstring of\n",
            "    :func:`sympy.integrals.transforms.IntegralTransform.doit`. If ``noconds=True``,\n",
            "    only `F` will be returned (i.e. not ``cond``, and also not the plane ``a``).\n",
            "    \n",
            "    >>> from sympy.integrals import laplace_transform\n",
            "    >>> from sympy.abc import t, s, a\n",
            "    >>> laplace_transform(t**a, t, s)\n",
            "    (s**(-a)*gamma(a + 1)/s, 0, re(a) > -1)\n",
            "    \n",
            "    See Also\n",
            "    ========\n",
            "    \n",
            "    inverse_laplace_transform, mellin_transform, fourier_transform\n",
            "    hankel_transform, inverse_hankel_transform\n",
            "\n"
          ]
        }
      ]
    },
    {
      "cell_type": "markdown",
      "source": [
        "**NO.1** (Type your description here!)"
      ],
      "metadata": {
        "id": "bXkFMk-LeYzs"
      }
    },
    {
      "cell_type": "code",
      "source": [
        "#import library\n",
        "import numpy as np\n",
        "import matplotlib.pyplot as plt\n",
        "from sympy import Function, dsolve, Derivative, solve, simplify, Eq, E, cos, sin, symbols\n",
        "from sympy import *\n",
        "from sympy.utilities.lambdify import lambdify\n",
        "from sympy.integrals.transforms import laplace_transform, inverse_laplace_transform\n",
        "\n",
        "#1a\n",
        "list_x = []\n",
        "list_y = []\n",
        "\n",
        "def f(x):\n",
        "  return (1-(1.5)*Heaviside(x-2)-(-0.5)*Heaviside(x-4))\n",
        "\n",
        "x = 0\n",
        "for i in range(0, 60):\n",
        "  list_x.append(x)\n",
        "  list_y.append(f(x))\n",
        "  x += 0.1\n",
        "\n",
        "plt.plot(list_x, list_y)\n",
        "plt.xlabel(\"x\")\n",
        "plt.ylabel(\"f(x)\")\n",
        "plt.show()"
      ],
      "metadata": {
        "colab": {
          "base_uri": "https://localhost:8080/",
          "height": 279
        },
        "id": "IV7Nfu54AlJV",
        "outputId": "01c7cd4d-d1f5-4b73-efca-82192b52297e"
      },
      "execution_count": null,
      "outputs": [
        {
          "output_type": "display_data",
          "data": {
            "image/png": "[encoded data removed]",
            "text/plain": [
              "<Figure size 432x288 with 1 Axes>"
            ]
          },
          "metadata": {
            "needs_background": "light"
          }
        }
      ]
    },
    {
      "cell_type": "code",
      "source": [
        "#import library\n",
        "import numpy as np\n",
        "import matplotlib.pyplot as plt\n",
        "from sympy import Function, dsolve, Derivative, solve, simplify, Eq, E, cos, sin, symbols\n",
        "from sympy import *\n",
        "from sympy.utilities.lambdify import lambdify\n",
        "from sympy.integrals.transforms import laplace_transform, inverse_laplace_transform\n",
        "\n",
        "#1b\n",
        "t = symbols('t', positive = True)\n",
        "s = symbols('s', real = True)\n",
        "\n",
        "f = 1-(1.5)*Heaviside(t-2)-(-0.5)*Heaviside(t-4)\n",
        "\n",
        "print(laplace_transform(f,t,s,noconds=True))"
      ],
      "metadata": {
        "colab": {
          "base_uri": "https://localhost:8080/"
        },
        "id": "7fP4WeDrxDjN",
        "outputId": "9d40c818-0bd6-4a82-d52e-7e5ffa661d58"
      },
      "execution_count": null,
      "outputs": [
        {
          "output_type": "stream",
          "name": "stdout",
          "text": [
            "(exp(4*s) - 1.5*exp(2*s) + 0.5)*exp(-4*s)/s\n"
          ]
        }
      ]
    },
    {
      "cell_type": "code",
      "source": [
        "#import library\n",
        "import numpy as np\n",
        "import matplotlib.pyplot as plt\n",
        "from sympy import Function, dsolve, Derivative, solve, simplify, Eq, E, cos, sin, symbols\n",
        "from sympy import *\n",
        "from sympy.utilities.lambdify import lambdify\n",
        "from sympy.integrals.transforms import laplace_transform, inverse_laplace_transform\n",
        "\n",
        "#1c\n",
        "t = symbols(\"t\",positive=True)\n",
        "s = symbols(\"s\",real=True)\n",
        "\n",
        "F = (exp(4*s) - 1.5*exp(2*s) + 0.5)*exp(-4*s)/s\n",
        "\n",
        "print(inverse_laplace_transform(F,s,t))\n",
        "print(\"Hasilnya konsisten\")"
      ],
      "metadata": {
        "colab": {
          "base_uri": "https://localhost:8080/"
        },
        "id": "OTHmCq0AyUlB",
        "outputId": "26658ef7-cb81-4360-d0bd-64daaeff527a"
      },
      "execution_count": null,
      "outputs": [
        {
          "output_type": "stream",
          "name": "stdout",
          "text": [
            "0.5*Heaviside(t - 4) - 1.5*Heaviside(t - 2) + 1.0\n",
            "Hasilnya konsisten\n"
          ]
        }
      ]
    },
    {
      "cell_type": "markdown",
      "source": [
        "**NO.2** (Type your description here!)"
      ],
      "metadata": {
        "id": "RuNzxu6RetTx"
      }
    },
    {
      "cell_type": "code",
      "source": [
        "#import library\n",
        "import numpy as np\n",
        "import matplotlib.pyplot as plt\n",
        "from sympy import Function, dsolve, Derivative, solve, simplify, Eq, E, cos, sin, symbols\n",
        "from sympy import *\n",
        "from sympy.utilities.lambdify import lambdify\n",
        "from sympy.integrals.transforms import laplace_transform, inverse_laplace_transform\n",
        "\n",
        "#2a\n",
        "t = symbols('t', positive = True)\n",
        "s = symbols('s', real = True)\n",
        "f = sin(t)*cos(t)\n",
        "print(\"Hasil Laplace:\")\n",
        "print(laplace_transform(f,t,s))\n",
        "#Invers\n",
        "F = 1/(s**2 + 4)\n",
        "print(\"Hasil Invers Laplace:\")\n",
        "print(inverse_laplace_transform(F,s,t))"
      ],
      "metadata": {
        "id": "kxy9kiEZexbk",
        "colab": {
          "base_uri": "https://localhost:8080/"
        },
        "outputId": "aa273da3-3c88-4f5e-ba30-375c95589544"
      },
      "execution_count": null,
      "outputs": [
        {
          "output_type": "stream",
          "name": "stdout",
          "text": [
            "Hasil Laplace:\n",
            "(1/(s**2 + 4), -oo, s > 0)\n",
            "Hasil Invers Laplace:\n",
            "sin(2*t)/2\n"
          ]
        }
      ]
    },
    {
      "cell_type": "code",
      "source": [
        "#import library\n",
        "import numpy as np\n",
        "import matplotlib.pyplot as plt\n",
        "from sympy import Function, dsolve, Derivative, solve, simplify, Eq, E, cos, sin, symbols\n",
        "from sympy import *\n",
        "from sympy.utilities.lambdify import lambdify\n",
        "from sympy.integrals.transforms import laplace_transform, inverse_laplace_transform\n",
        "\n",
        "#2b\n",
        "t = symbols('t', positive = True)\n",
        "s = symbols('s', real = True)\n",
        "g = t-((t-1)*Heaviside(t-1))+((t-2)*(Heaviside(t-2)-Heaviside(t-4)))\n",
        "print(\"Hasil Laplace:\")\n",
        "print(laplace_transform(g,t,s))\n",
        "#Invers\n",
        "G = (-2*s + exp(4*s) - exp(3*s) + exp(2*s) - 1)*exp(-4*s)/s**2\n",
        "print(\"Hasil Invers Laplace:\")\n",
        "print(inverse_laplace_transform(G,s,t))"
      ],
      "metadata": {
        "colab": {
          "base_uri": "https://localhost:8080/"
        },
        "id": "AtwhoihNzqXy",
        "outputId": "39046b62-e6ee-48e4-d5db-020624eebbe3"
      },
      "execution_count": null,
      "outputs": [
        {
          "output_type": "stream",
          "name": "stdout",
          "text": [
            "((-2*s + exp(4*s) - exp(3*s) + exp(2*s) - 1)*exp(-4*s)/s**2, -oo, s > 0)\n",
            "t - (t - 2)*Heaviside(t - 4) + (t - 2)*Heaviside(t - 2) - (t - 1)*Heaviside(t - 1)\n"
          ]
        }
      ]
    },
    {
      "cell_type": "markdown",
      "source": [
        "**NO.3** (Type your description here!)"
      ],
      "metadata": {
        "id": "VQ4mnvxfeyAK"
      }
    },
    {
      "cell_type": "code",
      "source": [
        "#import library\n",
        "import numpy as np\n",
        "import matplotlib.pyplot as plt\n",
        "from sympy import Function, dsolve, Derivative, solve, simplify, Eq, E, cos, sin, symbols\n",
        "from sympy import *\n",
        "from sympy.utilities.lambdify import lambdify\n",
        "from sympy.integrals.transforms import laplace_transform\n",
        "\n",
        "#3a\n",
        "x, f, X = symbols('x f X', cls = Function)\n",
        "t = symbols('t', positive = True)\n",
        "s = symbols('s', real = True)\n",
        "\n",
        "f = 3*Heaviside(t-6)+t/2-Heaviside(t-6)*(t/2)\n",
        "\n",
        "x0 = 0\n",
        "v0 = 0\n",
        "\n",
        "eom = Eq((s**2*X(s)-s*x0-v0),laplace_transform(f, t, s, noconds = True))\n",
        "Xofs = solve(eom,X(s))\n",
        "solution = inverse_laplace_transform(Xofs[0],s,t)\n",
        "solution"
      ],
      "metadata": {
        "id": "M89YPWSZezEw",
        "colab": {
          "base_uri": "https://localhost:8080/",
          "height": 55
        },
        "outputId": "6fb009de-d214-4d3d-8117-d69ebdbd3d85"
      },
      "execution_count": null,
      "outputs": [
        {
          "output_type": "execute_result",
          "data": {
            "text/latex": "$\\displaystyle \\frac{t^{3}}{12} - \\frac{\\left(t^{3} - 18 t^{2} + 108 t - 216\\right) \\theta\\left(t - 6\\right)}{12}$",
            "text/plain": [
              "t**3/12 - (t**3 - 18*t**2 + 108*t - 216)*Heaviside(t - 6)/12"
            ]
          },
          "metadata": {},
          "execution_count": 53
        }
      ]
    },
    {
      "cell_type": "markdown",
      "source": [
        "The code ends here"
      ],
      "metadata": {
        "id": "4ncuQEhceP6A"
      }
    }
  ]
}