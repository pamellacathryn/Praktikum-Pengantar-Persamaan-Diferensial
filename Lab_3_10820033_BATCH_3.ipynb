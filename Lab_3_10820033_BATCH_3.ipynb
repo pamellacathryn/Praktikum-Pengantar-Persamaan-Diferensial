{
  "nbformat": 4,
  "nbformat_minor": 0,
  "metadata": {
    "colab": {
      "name": "Lab_3_10820033_BATCH_3.ipynb",
      "provenance": [],
      "collapsed_sections": []
    },
    "kernelspec": {
      "name": "python3",
      "display_name": "Python 3"
    },
    "language_info": {
      "name": "python"
    }
  },
  "cells": [
    {
      "cell_type": "markdown",
      "source": [
        "**PRAKTIKUM KE-3**"
      ],
      "metadata": {
        "id": "wZRRMjhqd1WX"
      }
    },
    {
      "cell_type": "markdown",
      "source": [
        " * Nama : Pamella Cathryn\n",
        " * NIM  : 10820033\n",
        " * Asisten : Ria Nurlita Rachmawati"
      ],
      "metadata": {
        "id": "VVb23kFWdG7r"
      }
    },
    {
      "cell_type": "markdown",
      "source": [
        "The code starts here"
      ],
      "metadata": {
        "id": "x3upUQ3EeL9r"
      }
    },
    {
      "cell_type": "markdown",
      "source": [
        "**NO.1**"
      ],
      "metadata": {
        "id": "bXkFMk-LeYzs"
      }
    },
    {
      "cell_type": "code",
      "source": [
        "#import library\n",
        "import numpy as np\n",
        "import matplotlib.pyplot as plt\n",
        "from sympy import Function, dsolve, Derivative, solve, simplify, Eq, E, cos, sin, symbols\n",
        "from sympy.abc import t,x\n",
        "from sympy.utilities.lambdify import lambdify\n",
        "\n",
        "#Menulis Fungsi\n",
        "y = Function('y')\n",
        "sol = dsolve(Derivative(y(t), t, t) + sin(t)*Derivative(y(t), t) - cos(t) * y(t), y(t)).rhs\n",
        "\n",
        "#Masalah Nilai Awal\n",
        "cnd0 = Eq(sol.subs(t, 0), 0)\n",
        "cnd1 = Eq(sol.diff(t).subs(t, 0), 1)\n",
        "\n",
        "C1, C2 = symbols(\"C1, C2\")\n",
        "C1C2_s1 = solve([cnd0, cnd1], (C1, C2))\n",
        "sol1 = simplify(sol.subs(C1C2_s1))\n",
        "print(\"Solusi Masalah Nilai awal ->\",Eq(y(t), sol1))"
      ],
      "metadata": {
        "colab": {
          "base_uri": "https://localhost:8080/"
        },
        "id": "lof0kigqhEX9",
        "outputId": "9f6ae365-6651-40f4-818a-df8ea4dbac9e"
      },
      "execution_count": null,
      "outputs": [
        {
          "output_type": "stream",
          "name": "stdout",
          "text": [
            "Solusi Masalah Nilai awal -> Eq(y(t), t - t**2*sin(t)/2 + t**3*cos(t)/6 + t**3*sin(t)**2/6 - t**4*sin(2*t)/24 + O(t**6))\n"
          ]
        }
      ]
    },
    {
      "cell_type": "markdown",
      "source": [
        "**NO.2**"
      ],
      "metadata": {
        "id": "RuNzxu6RetTx"
      }
    },
    {
      "cell_type": "code",
      "source": [
        "#import library\n",
        "import numpy as np\n",
        "import matplotlib.pyplot as plt\n",
        "from sympy import Function, dsolve, Derivative, solve, simplify, Eq, E, cos, sin, symbols\n",
        "from sympy.abc import t,x\n",
        "from sympy.utilities.lambdify import lambdify\n",
        "\n",
        "y = Function('y') \n",
        "sol = dsolve(Derivative(y(x),x ,x, x, x) + 6*Derivative(y(x),x, x, x) + 17*Derivative(y(x),x,x) + 22*Derivative(y(x),x) + 14*y(x), y(x)).rhs\n",
        "print(\"solusi umum ->\", sol)             \n",
        "\n",
        "#solusi khusus\n",
        "cnd0 = Eq(sol.subs(x, 0), 1)\n",
        "cnd1 = Eq(sol.diff(x).subs(x, 0), -2)\n",
        "cnd2 = Eq(sol.diff(x, x).subs(x, 0), 0)\n",
        "cnd3 = Eq(sol.diff(x, x, x).subs(x, 0), 3)\n",
        "C1,C2,C3,C4 = symbols(\"C1,C2,C3,C4\")\n",
        "C1C2C3C4_sl = solve([cnd0, cnd1, cnd2, cnd3], [C1,C2,C3,C4])\n",
        "sol1 = simplify(sol.subs(C1C2C3C4_sl))\n",
        "print(\"solusi khusus ->\", sol1)"
      ],
      "metadata": {
        "id": "kxy9kiEZexbk",
        "colab": {
          "base_uri": "https://localhost:8080/"
        },
        "outputId": "e4782a66-2cc1-4abb-8160-eef9437a451c"
      },
      "execution_count": null,
      "outputs": [
        {
          "output_type": "stream",
          "name": "stdout",
          "text": [
            "solusi umum -> (C3*sin(x) + C4*cos(x) + (C1*sin(sqrt(3)*x) + C2*cos(sqrt(3)*x))*exp(-x))*exp(-x)\n",
            "solusi khusus -> (3*(-38*sin(x) + 21*cos(x))*exp(x) + 17*sqrt(3)*sin(sqrt(3)*x) - 24*cos(sqrt(3)*x))*exp(-2*x)/39\n"
          ]
        }
      ]
    },
    {
      "cell_type": "markdown",
      "source": [
        "**NO.3**"
      ],
      "metadata": {
        "id": "VQ4mnvxfeyAK"
      }
    },
    {
      "cell_type": "code",
      "source": [
        "#import library\n",
        "import numpy as np\n",
        "import matplotlib.pyplot as plt\n",
        "from sympy import Function, dsolve, Derivative, solve, simplify, Eq, E, cos, sin, symbols\n",
        "from sympy.abc import t,x\n",
        "from sympy.utilities.lambdify import lambdify\n",
        "\n",
        "#a\n",
        "m = 4\n",
        "c = 2\n",
        "k = 4\n",
        "\n",
        "\n",
        "g = Function('g')\n",
        "solution = dsolve(m*Derivative(g(t), t, t) + c*Derivative(g(t), t) + k * g(t), g(t)).rhs\n",
        "cnd0 = Eq(solution.subs(t, 0), 1)\n",
        "cnd1 = Eq(solution.diff(t).subs(t, 0), 0)\n",
        "C1, C2 = symbols(\"C1, C2\")\n",
        "C1C2_s1 = solve([cnd0, cnd1], (C1, C2))\n",
        "sol_1 = simplify(solution.subs(C1C2_s1))\n",
        "print(\"Solusi ->\",Eq(g(t), sol_1))\n",
        "print()\n",
        "\n",
        "sol_function = lambdify(t, sol_1, 'numpy')\n",
        "sol_function\n",
        "\n",
        "t = np.linspace(0, 10, 100)\n",
        "\n",
        "def f(t):\n",
        "  return sol_function(t)\n",
        "\n",
        "plt.plot(t, f(t))\n",
        "plt.xlim([0,10])\n",
        "plt.ylim([-0.5,1.1])\n",
        "plt.xlabel(\"t\")\n",
        "plt.ylabel(\"x(t)\")\n",
        "plt.show()\n",
        "\n",
        "print('''Interpretasi :\n",
        "lama kelamaan osilasi sistem pegas masa akan semakin redam karena terdapat konstanta redaman''')"
      ],
      "metadata": {
        "id": "M89YPWSZezEw",
        "colab": {
          "base_uri": "https://localhost:8080/",
          "height": 349
        },
        "outputId": "17d51f6e-31d3-4d35-931c-e3c39c6563f5"
      },
      "execution_count": null,
      "outputs": [
        {
          "output_type": "stream",
          "name": "stdout",
          "text": [
            "Solusi homogen -> Eq(g(t), (sqrt(15)*sin(sqrt(15)*t/4)/15 + cos(sqrt(15)*t/4))*exp(-t/4))\n",
            "\n"
          ]
        },
        {
          "output_type": "display_data",
          "data": {
            "image/png": "[encoded data removed]",
            "text/plain": [
              "<Figure size 432x288 with 1 Axes>"
            ]
          },
          "metadata": {
            "needs_background": "light"
          }
        },
        {
          "output_type": "stream",
          "name": "stdout",
          "text": [
            "Interpretasi :\n",
            "lama kelamaan osilasi sistem pegas masa akan semakin redam karena terdapat konstanta redaman\n"
          ]
        }
      ]
    },
    {
      "cell_type": "code",
      "source": [
        "#import library\n",
        "import numpy as np\n",
        "import matplotlib.pyplot as plt\n",
        "from sympy import Function, dsolve, Derivative, solve, simplify, Eq, E, cos, sin, symbols\n",
        "from sympy.abc import t,x\n",
        "from sympy.utilities.lambdify import lambdify\n",
        "\n",
        "#b\n",
        "m = 4\n",
        "c = 2\n",
        "k = 4\n",
        "\n",
        "g = Function('g')\n",
        "solution = dsolve(m*Derivative(g(t), t, t) + c*Derivative(g(t), t) + k * g(t) -100*cos(np.sqrt(15)*t/4), g(t)).rhs\n",
        "cnd0 = Eq(solution.subs(t, 0), 1)\n",
        "cnd1 = Eq(solution.diff(t).subs(t, 0), 0)\n",
        "C1, C2 = symbols(\"C1, C2\")\n",
        "C1C2_s1 = solve([cnd0, cnd1], (C1, C2))\n",
        "sol_1 = simplify(solution.subs(C1C2_s1))\n",
        "print(\"Solusi ->\",Eq(g(t), sol_1))\n",
        "print()\n",
        "\n",
        "sol_function = lambdify(t, sol_1, 'numpy')\n",
        "sol_function\n",
        "\n",
        "t = np.linspace(0, 10, 100)\n",
        "\n",
        "def f(t):\n",
        "  return sol_function(t)\n",
        "\n",
        "plt.plot(t, f(t))\n",
        "plt.xlim([0,10])\n",
        "plt.ylim([-100,100])\n",
        "plt.xlabel(\"t\")\n",
        "plt.ylabel(\"x(t)\")\n",
        "plt.show()"
      ],
      "metadata": {
        "colab": {
          "base_uri": "https://localhost:8080/",
          "height": 338
        },
        "id": "FCmJC3SCqFIX",
        "outputId": "5bdff8d4-a2ec-4a53-b07d-192ea0badb0c"
      },
      "execution_count": null,
      "outputs": [
        {
          "output_type": "stream",
          "name": "stdout",
          "text": [
            "Solusi homogen -> Eq(g(t), ((50.7932242125562*sin(0.968245836551854*t) + 6.55737704918032*cos(0.968245836551854*t))*exp(t/4) - 52.2281327965609*sin(sqrt(15)*t/4) - 5.55737704918032*cos(sqrt(15)*t/4))*exp(-t/4))\n",
            "\n"
          ]
        },
        {
          "output_type": "display_data",
          "data": {
            "image/png": "[encoded data removed]",
            "text/plain": [
              "<Figure size 432x288 with 1 Axes>"
            ]
          },
          "metadata": {
            "needs_background": "light"
          }
        }
      ]
    },
    {
      "cell_type": "code",
      "source": [
        "#import library\n",
        "import numpy as np\n",
        "import matplotlib.pyplot as plt\n",
        "from sympy import Function, dsolve, Derivative, solve, simplify, Eq, E, cos, sin, symbols\n",
        "from sympy.abc import t,x\n",
        "from sympy.utilities.lambdify import lambdify\n",
        "\n",
        "#c\n",
        "m = 4\n",
        "c = 2\n",
        "k = 4\n",
        "\n",
        "g = Function('g')\n",
        "solution = dsolve(m*Derivative(g(t), t, t) + c*Derivative(g(t), t) + k * g(t) -cos(t), g(t)).rhs\n",
        "cnd0 = Eq(solution.subs(t, 0), 1)\n",
        "cnd1 = Eq(solution.diff(t).subs(t, 0), 0)\n",
        "C1, C2 = symbols(\"C1, C2\")\n",
        "C1C2_s1 = solve([cnd0, cnd1], (C1, C2))\n",
        "sol_1 = simplify(solution.subs(C1C2_s1))\n",
        "print(\"Solusi ->\",Eq(g(t), sol_1))\n",
        "print()\n",
        "\n",
        "sol_function = lambdify(t, sol_1, 'numpy')\n",
        "sol_function\n",
        "\n",
        "t = np.linspace(0, 10, 100)\n",
        "\n",
        "def f(t):\n",
        "  return sol_function(t)\n",
        "\n",
        "plt.plot(t, f(t))\n",
        "plt.xlim([0,10])\n",
        "plt.ylim([-2,2])\n",
        "plt.xlabel(\"t\")\n",
        "plt.ylabel(\"x(t)\")\n",
        "plt.show()"
      ],
      "metadata": {
        "colab": {
          "base_uri": "https://localhost:8080/",
          "height": 318
        },
        "id": "LFQHAxPjrwLO",
        "outputId": "f44b6e15-4b3d-42e5-8a2c-9b6eb767aeef"
      },
      "execution_count": null,
      "outputs": [
        {
          "output_type": "stream",
          "name": "stdout",
          "text": [
            "Solusi homogen -> Eq(g(t), (exp(t/4)*sin(t)/2 - sqrt(15)*sin(sqrt(15)*t/4)/15 + cos(sqrt(15)*t/4))*exp(-t/4))\n",
            "\n"
          ]
        },
        {
          "output_type": "display_data",
          "data": {
            "image/png": "[encoded data removed]",
            "text/plain": [
              "<Figure size 432x288 with 1 Axes>"
            ]
          },
          "metadata": {
            "needs_background": "light"
          }
        }
      ]
    },
    {
      "cell_type": "code",
      "source": [
        "#d\n",
        "print('''Interpretasi:\n",
        "Ketiga grafik menunjukkan peristiwa resonansi\n",
        "grafik a resonansi teredam karena terdapat konstanta peredam, dan sangat cepat redamannya karena tidak terdapat gaya luar\n",
        "grafik b resonansi membesar karena terdapat konstanta peredam, dan resonansinya membesar karena terdapat gaya luar yang besar\n",
        "grafik c resonansi teredam karena terdapat konstanta peredam, dan redamannya tidak cepat karena terdapat gaya luar''')"
      ],
      "metadata": {
        "id": "_1nadhnTr_Xt"
      },
      "execution_count": null,
      "outputs": []
    },
    {
      "cell_type": "markdown",
      "source": [
        "The code ends here"
      ],
      "metadata": {
        "id": "4ncuQEhceP6A"
      }
    }
  ]
}